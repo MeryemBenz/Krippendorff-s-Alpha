{
  "nbformat": 4,
  "nbformat_minor": 0,
  "metadata": {
    "colab": {
      "provenance": [],
      "toc_visible": true
    },
    "kernelspec": {
      "name": "python3",
      "display_name": "Python 3"
    },
    "language_info": {
      "name": "python"
    }
  },
  "cells": [
    {
      "cell_type": "code",
      "execution_count": 2,
      "metadata": {
        "id": "fFQwu7E7Ap8G",
        "colab": {
          "base_uri": "https://localhost:8080/"
        },
        "outputId": "f3d7f2f9-252e-418b-f303-954074db9a20"
      },
      "outputs": [
        {
          "output_type": "stream",
          "name": "stdout",
          "text": [
            "Collecting krippendorff\n",
            "  Downloading krippendorff-0.8.0-py3-none-any.whl.metadata (2.8 kB)\n",
            "Requirement already satisfied: numpy>=1.21 in /usr/local/lib/python3.10/dist-packages (from krippendorff) (1.26.4)\n",
            "Downloading krippendorff-0.8.0-py3-none-any.whl (18 kB)\n",
            "Installing collected packages: krippendorff\n",
            "Successfully installed krippendorff-0.8.0\n"
          ]
        }
      ],
      "source": [
        "!pip install krippendorff"
      ]
    },
    {
      "cell_type": "code",
      "source": [
        "import krippendorff"
      ],
      "metadata": {
        "id": "jDJjM-UCiYGi"
      },
      "execution_count": 3,
      "outputs": []
    },
    {
      "cell_type": "code",
      "source": [
        "data = [\n",
        "\n",
        "    [\"Politics\",\t\"Politics\"],  # Random Post 1\n",
        "[\"Politics\",\t\"Politics\"], # Random Post 2\n",
        "[\"Politics\",  \"Health\"],\n",
        "[\"Politics\",\t\"Politics\"],\n",
        "[\"Politics\",\t\"Politics\"],\n",
        "[\"Politics\",\t\"Politics\"],\n",
        "[\"Education\", \"Politics\"],\n",
        "[\"Education\", \"Education\"],\n",
        "[\"Employment\", \"Employment\"],\n",
        "[\"Politics\",\t\"Politics\"],\n",
        "[\"Education\", \"Education\"],\n",
        "[\"Politics\",\t\"Politics\"],\n",
        "[\"Politics\",\t\"Politics\"],\n",
        "[\"Employment\",\t\"Employment\"],\n",
        "[\"Politics\",\t\"Politics\"],\n",
        "[\"Politics\",\t\"Politics\"],\n",
        "[\"Politics\",\t\"Politics\"],\n",
        "[\"Politics\",\t\"Politics\"],\n",
        "[\"Health\",\t\"Health\"],\n",
        "[\"Politics\",\t\"Politics\"],\n",
        "[\"Health\", \"Rural-focused topics\"],\n",
        "[\"Politics\",\t\"Politics\"],\n",
        "[\"Politics\",\t\"Politics\"],\n",
        "[\"Politics\",\t\"Politics\"],\n",
        "[\"Politics\",\t\"Politics\"],\n",
        "[\"Politics\",\t\"Politics\"],\n",
        "[\"Politics\",\t\"Politics\"],\n",
        "[\"Health\",\t\"Health\"],\n",
        "[\"Politics\",\t\"Economic development\"],\n",
        "[\"Health\", \"Health\"],\n",
        "[\"Employment\", \"Employment\"],\n",
        "[\"Politics\",\t\"Politics\"],\n",
        "[\"Politics\",\t\"Politics\"],\n",
        "[\"Politics\",\t\"Politics\"],\n",
        "[\"Health\",\t\"Politics\"],\n",
        "[\"Politics\",\t\"Politics\"],\n",
        "[\"Politics\",\t\"Politics\"],\n",
        "[\"Politics\",\t\"Politics\"],\n",
        "[\"Politics\",\t\"Politics\"],\n",
        "[\"Politics\",\t\"Politics\"],\n",
        "[\"Politics\",\t\"Politics\"],\n",
        "[\"Politics\",\t\"Politics\"],\n",
        "[\"Politics\",\t\"Politics\"],\n",
        "[\"Politics\",\t\"Politics\"],\n",
        "[\"Politics\",\t\"Politics\"],\n",
        "[\"Health\", \"Health\"],\n",
        "[\"Politics\",\t\"Politics\"],\n",
        "[\"Politics\",\t\"Politics\"],\n",
        "[\"Politics\",\t\"Politics\"],\n",
        "[\"Politics\",\t\"Politics\"],\n",
        "[\"Economic development\",\t\"Economic development\"],\n",
        "[\"Health\",\t\"Health\"],\n",
        "[\"Rural-focused topics\", \"Rural-focused topics\"],\n",
        "[\"Politics\",\t\"Politics\"],\n",
        "[\"Education\", \"Education\"],\n",
        "[\"Politics\",\t\"Politics\"],\n",
        "[\"Politics\",\t\"Politics\"],\n",
        "[\"Politics\",\t\"Politics\"],\n",
        "[\"Politics\",\t\"Politics\"],\n",
        "[\"Politics\",\t\"Politics\"]\n",
        "\n",
        "]\n"
      ],
      "metadata": {
        "id": "0vsQ5XE3iaSB"
      },
      "execution_count": 11,
      "outputs": []
    },
    {
      "cell_type": "code",
      "source": [
        "reliability_data = list(map(list, zip(*data)))\n",
        "alpha = krippendorff.alpha(reliability_data=reliability_data, level_of_measurement='nominal')\n",
        "print(f\"Krippendorff's alpha: {alpha}\")"
      ],
      "metadata": {
        "colab": {
          "base_uri": "https://localhost:8080/"
        },
        "id": "W96h58uDibHk",
        "outputId": "00a23e44-5a20-48cf-cbc0-88626daab384"
      },
      "execution_count": 12,
      "outputs": [
        {
          "output_type": "stream",
          "name": "stdout",
          "text": [
            "Krippendorff's alpha: 0.8135964912280702\n"
          ]
        }
      ]
    }
  ]
}